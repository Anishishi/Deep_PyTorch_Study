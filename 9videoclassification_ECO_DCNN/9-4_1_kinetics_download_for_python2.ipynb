{
 "cells": [
  {
   "cell_type": "markdown",
   "metadata": {},
   "source": [
    "# 9.4.1 Kinetics動画のダウンロード\n",
    "本ファイルでは、Kinetics動画をダウンロードします。\n",
    "\n",
    "## 解説\n",
    "https://github.com/activitynet/ActivityNet/tree/master/Crawler/Kinetics\n",
    "\n",
    "のKineticsの動画ダウンロード環境を利用します。\n",
    "\n",
    "Python2系なので、新しい仮想環境を作成します。 今いるディレクトリはUbuntuのhomeです。\n",
    "\n",
    "以下のコマンドをターミナルで実行し、フォルダ「video_download」のファイル「environment.yml」に記載したパッケージをインストールした仮想環境を作成します\n",
    "\n",
    "source deactivate\n",
    "\n",
    "conda env create -f ./9_video_classification_eco/video_download/environment.yml\n",
    "\n",
    "作成した仮想環境に入ります\n",
    "\n",
    "source activate kinetics\n",
    "youtube-dlのパッケージを更新インストールします\n",
    "\n",
    "pip install --upgrade youtube-dl\n",
    "\n",
    "pip install --upgrade joblib\n",
    "\n",
    "これで準備ができたので、JupyteNotebookを立ち上げ、本ファイルを実行します\n",
    "\n",
    "jupyter notebook --port 9999"
   ]
  },
  {
   "cell_type": "code",
   "execution_count": 1,
   "metadata": {},
   "outputs": [
    {
     "name": "stdout",
     "output_type": "stream",
     "text": [
      "/tmp/kinetics/2cefb654-ab0a-4a5b-b355-9ab3f4d0b596.%(ext)s\n",
      "/tmp/kinetics/5831b20a-ce64-4450-bbac-367a7bfa9b8c.%(ext)s\n",
      "/tmp/kinetics/a4b97c66-b219-4c69-a516-3d1694926384.%(ext)s\n",
      "/tmp/kinetics/a938d38a-0be1-4bfc-8c1f-7e933936fc32.%(ext)s\n",
      "/tmp/kinetics/9891710c-4a6c-40cc-90c2-d40646288d21.%(ext)s\n",
      "/tmp/kinetics/c17c90e2-408c-4bee-8d9b-2d5c95d6afa5.%(ext)s\n",
      "/tmp/kinetics/a68d21b4-24b4-4dd5-89e5-aa854e776228.%(ext)s\n",
      "/tmp/kinetics/fdc68b62-d559-4271-9dca-5512dbc01c6e.%(ext)s\n"
     ]
    }
   ],
   "source": [
    "import os\n",
    "\n",
    "# フォルダ「data」が存在しない場合は作成する\n",
    "data_dir = \"./data/\"\n",
    "if not os.path.exists(data_dir):\n",
    "    os.mkdir(data_dir)\n",
    "    \n",
    "# フォルダ「kinetics_videos」が存在しない場合は作成する\n",
    "data_dir = \"./data/kinetics_videos/\"\n",
    "if not os.path.exists(data_dir):\n",
    "    os.mkdir(data_dir)\n",
    "    \n",
    "    \n",
    "# フォルダ「video_download」のpytnonファイル「download.py」を実行します\n",
    "# 取得するyoutubeデータはフォルダ「video_download」のkinetics-400_val_8videos.csvに記載した8動画です\n",
    "# 保存先はフォルダ「data」内のフォルダ「kinetics_videos」です\n",
    "!python2 ./video_download/download.py ./video_download/kinetics-400_val_8videos.csv ./data/kinetics_videos/"
   ]
  }
 ],
 "metadata": {
  "kernelspec": {
   "display_name": "Python 2",
   "language": "python",
   "name": "python2"
  },
  "language_info": {
   "codemirror_mode": {
    "name": "ipython",
    "version": 2
   },
   "file_extension": ".py",
   "mimetype": "text/x-python",
   "name": "python",
   "nbconvert_exporter": "python",
   "pygments_lexer": "ipython2",
   "version": "2.7.13"
  }
 },
 "nbformat": 4,
 "nbformat_minor": 2
}
